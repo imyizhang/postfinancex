{
 "cells": [
  {
   "cell_type": "markdown",
   "metadata": {},
   "source": [
    "# Get Started with PostFinanceX"
   ]
  },
  {
   "cell_type": "markdown",
   "metadata": {},
   "source": [
    "## Installation\n",
    "\n",
    "```bash\n",
    "pip install postfinancex\n",
    "```"
   ]
  },
  {
   "cell_type": "markdown",
   "metadata": {},
   "source": [
    "## Global Settings"
   ]
  },
  {
   "cell_type": "code",
   "execution_count": 1,
   "metadata": {},
   "outputs": [],
   "source": [
    "import os\n",
    "\n",
    "import dotenv\n",
    "\n",
    "dotenv.load_dotenv()  # load environment variables\n",
    "\n",
    "from postfinance import Settings\n",
    "\n",
    "# secrets\n",
    "\n",
    "# llm\n",
    "Settings.watsonx_api_key = os.getenv(\"WATSONX_API_KEY\")\n",
    "Settings.watsonx_url = os.getenv(\"WATSONX_URL\")\n",
    "Settings.watsonx_project_id = os.getenv(\"WATSONX_PROJECT_ID\")\n",
    "# embedding model\n",
    "Settings.jina_api_key = os.getenv(\"JINA_API_KEY\")\n",
    "# graph\n",
    "Settings.neo4j_uri = os.getenv(\"NEO4J_URI\")\n",
    "Settings.neo4j_username = os.getenv(\"NEO4J_USERNAME\")\n",
    "Settings.neo4j_password = os.getenv(\"NEO4J_PASSWORD\")\n",
    "# storage\n",
    "Settings.mongo_uri = os.getenv(\"MONGO_URI\")\n",
    "\n",
    "# settings\n",
    "\n",
    "# llm\n",
    "Settings.watsonx_model_id = \"meta-llama/llama-3-70b-instruct\"\n",
    "Settings.watsonx_model_params.decoding_method = \"sample\"\n",
    "Settings.watsonx_model_params.top_p = 0.9\n",
    "Settings.watsonx_model_params.top_k = 50\n",
    "Settings.watsonx_model_params.temperature = 0.6\n",
    "Settings.watsonx_model_params.random_seed = 0\n",
    "Settings.watsonx_model_params.repetition_penalty = 1.0\n",
    "Settings.watsonx_model_params.min_new_tokens = 0\n",
    "Settings.watsonx_model_params.max_new_tokens = 1024\n",
    "\n",
    "# tools\n",
    "Settings.tools.graph_qa = True\n",
    "Settings.tools.vector_search = True\n",
    "\n",
    "# local storage\n",
    "Settings.persist_dir = \"./.postfinancex/storage\"\n",
    "\n",
    "# verbosity\n",
    "Settings.verbose = True"
   ]
  },
  {
   "cell_type": "markdown",
   "metadata": {},
   "source": [
    "## Let's Chat"
   ]
  },
  {
   "cell_type": "code",
   "execution_count": 2,
   "metadata": {},
   "outputs": [
    {
     "name": "stdout",
     "output_type": "stream",
     "text": [
      "Model parameters:\n",
      "{\n",
      "    \"decoding_method\": \"sample\",\n",
      "    \"top_p\": 0.9,\n",
      "    \"top_k\": 50,\n",
      "    \"temperature\": 0.6,\n",
      "    \"repetition_penalty\": 1.0,\n",
      "    \"min_new_tokens\": 0,\n",
      "    \"max_new_tokens\": 1024\n",
      "}\n",
      "Tools:\n",
      "graph_qa, vector_search\n"
     ]
    }
   ],
   "source": [
    "from postfinance import get_agent_executor, chat\n",
    "\n",
    "agent = get_agent_executor()"
   ]
  },
  {
   "cell_type": "code",
   "execution_count": 3,
   "metadata": {},
   "outputs": [
    {
     "name": "stdout",
     "output_type": "stream",
     "text": [
      "\n",
      "\n",
      "\u001b[1m> Entering new AgentExecutor chain...\u001b[0m\n",
      "\u001b[32;1m\u001b[1;3mThought: Do I need to use a tool? Yes\n",
      "Action: graph_qa\n",
      "Action Input: \"What is the most commonly used language in the recorded customer calls?\"\n",
      "Observation\u001b[0m\n",
      "\n",
      "\u001b[1m> Entering new GraphCypherQAChain chain...\u001b[0m\n",
      "Generated Cypher:\n",
      "\u001b[32;1m\u001b[1;3mMATCH (c:Call) WITH c.detected_language AS language, COUNT(c) AS count ORDER BY count DESC RETURN language, count LIMIT 1\u001b[0m\n",
      "Full Context:\n",
      "\u001b[32;1m\u001b[1;3m[{'language': 'Swiss German', 'count': 9}]\u001b[0m\n",
      "\n",
      "\u001b[1m> Finished chain.\u001b[0m\n",
      "\u001b[36;1m\u001b[1;3mSwiss German.\u001b[0m\n",
      "\u001b[32;1m\u001b[1;3m\u001b[0m\n",
      "\n",
      "\u001b[1m> Finished chain.\u001b[0m\n"
     ]
    },
    {
     "data": {
      "text/plain": [
       "'Swiss German.'"
      ]
     },
     "execution_count": 3,
     "metadata": {},
     "output_type": "execute_result"
    }
   ],
   "source": [
    "chat(agent, \"What is the most commonly used language in the recorded customer calls?\")"
   ]
  },
  {
   "cell_type": "code",
   "execution_count": 4,
   "metadata": {},
   "outputs": [
    {
     "name": "stdout",
     "output_type": "stream",
     "text": [
      "\n",
      "\n",
      "\u001b[1m> Entering new AgentExecutor chain...\u001b[0m\n",
      "\u001b[32;1m\u001b[1;3mThought: Do I need to use a tool? Yes\n",
      "Action: vector_search\n",
      "Action Input: account management fees\n",
      "Observation\u001b[0m\u001b[33;1m\u001b[1;3m The account management fee is a standardized fee that we charge for the administration of your account. The amount of this fee can vary depending on your account model.  (Script 01 - Inquiry About Fees and Interest on Account Statements)\u001b[0m\u001b[32;1m\u001b[1;3m```\n",
      "Thought: Do I need to use a tool? Yes\n",
      "Action: vector_search\n",
      "Action Input: avoid account management fees\n",
      "Observation\u001b[0m\u001b[33;1m\u001b[1;3m switch accounts to an account model with lower or no fees.\u001b[0m\u001b[32;1m\u001b[1;3mFinal Answer: You can avoid account management fees by switching accounts to an account model with lower or no fees.\u001b[0m\n",
      "\n",
      "\u001b[1m> Finished chain.\u001b[0m\n"
     ]
    },
    {
     "data": {
      "text/plain": [
       "'You can avoid account management fees by switching accounts to an account model with lower or no fees.'"
      ]
     },
     "execution_count": 4,
     "metadata": {},
     "output_type": "execute_result"
    }
   ],
   "source": [
    "chat(agent, \"How to avoid account management fees?\")"
   ]
  },
  {
   "cell_type": "code",
   "execution_count": 5,
   "metadata": {},
   "outputs": [
    {
     "name": "stdout",
     "output_type": "stream",
     "text": [
      "\n",
      "\n",
      "\u001b[1m> Entering new AgentExecutor chain...\u001b[0m\n",
      "\u001b[32;1m\u001b[1;3mThought: Do I need to use a tool? Yes\n",
      "Action: vector_search\n",
      "Action Input: *args=('change name', 'profile'), **kwargs={'doc': 'postfinance_document'}\n",
      "Observation\u001b[0m\u001b[33;1m\u001b[1;3m For a name change, we need an official document, such as a copy of your marriage certificate. Do you have the document with you?\u001b[0m\u001b[32;1m\u001b[1;3m```\n",
      "\n",
      "Thought: Do I need to use a tool? No\n",
      "Final Answer: For a name change, we need an official document, such as a copy of your marriage certificate. Do you have the document with you?\u001b[0m\n",
      "\n",
      "\u001b[1m> Finished chain.\u001b[0m\n"
     ]
    },
    {
     "data": {
      "text/plain": [
       "'For a name change, we need an official document, such as a copy of your marriage certificate. Do you have the document with you?'"
      ]
     },
     "execution_count": 5,
     "metadata": {},
     "output_type": "execute_result"
    }
   ],
   "source": [
    "chat(agent, \"How to change name in my profile?\")"
   ]
  }
 ],
 "metadata": {
  "kernelspec": {
   "display_name": "llm",
   "language": "python",
   "name": "python3"
  },
  "language_info": {
   "codemirror_mode": {
    "name": "ipython",
    "version": 3
   },
   "file_extension": ".py",
   "mimetype": "text/x-python",
   "name": "python",
   "nbconvert_exporter": "python",
   "pygments_lexer": "ipython3",
   "version": "3.10.14"
  }
 },
 "nbformat": 4,
 "nbformat_minor": 2
}
